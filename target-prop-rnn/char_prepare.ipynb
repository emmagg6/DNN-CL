{
 "metadata": {
  "language_info": {
   "codemirror_mode": {
    "name": "ipython",
    "version": 3
   },
   "file_extension": ".py",
   "mimetype": "text/x-python",
   "name": "python",
   "nbconvert_exporter": "python",
   "pygments_lexer": "ipython3",
   "version": "3.8.5"
  },
  "orig_nbformat": 4,
  "kernelspec": {
   "name": "python3",
   "display_name": "Python 3.8.5 64-bit ('base': conda)"
  },
  "interpreter": {
   "hash": "281a0712d20f16d85be18ca390c9c251f06399722426363e73cbb752228d926c"
  }
 },
 "nbformat": 4,
 "nbformat_minor": 2,
 "cells": [
  {
   "cell_type": "code",
   "execution_count": 2,
   "metadata": {},
   "outputs": [],
   "source": [
    "import math\n",
    "from typing import List, Union\n",
    "\n",
    "import numpy as np\n",
    "import pytorch_lightning as pl\n",
    "from pytorch_lightning import LightningDataModule\n",
    "import torch\n",
    "from torch._C import dtype\n",
    "# from torch.utils.data import dataloader\n",
    "# from torch.utils.data.dataloader import DataLoader\n",
    "from torch.utils.data import Dataset, IterableDataset, DataLoader"
   ]
  },
  {
   "cell_type": "code",
   "execution_count": 9,
   "metadata": {},
   "outputs": [],
   "source": [
    "class NextChar(Dataset):\n",
    "    def __init__(self, data_dir,file, seq_length):\n",
    "        self.data  = open(data_dir+file, 'r').read()   #shakespare data\n",
    "        self.chars = list(set(self.data))\n",
    "        self.seq_length = seq_length\n",
    "        self.data_size, self.vocab_size = len(self.data), len(self.chars)\n",
    "        self.char_to_ix = { ch:i for i,ch in enumerate(self.chars) } \n",
    "        self.ix_to_char = { i:ch for i,ch in enumerate(self.chars) }\n",
    "        \n",
    "    def __getitem__(self, index):\n",
    "        x = [self.char_to_ix[ch] for ch in self.data[index:index+self.seq_length]] \n",
    "        y = [self.char_to_ix[ch] for ch in self.data[index+1:index+self.seq_length+1]] \n",
    "        return x, y\n",
    "\n",
    "    def __len__(self):\n",
    "        x = [self.char_to_ix[ch] for ch in self.data] \n",
    "        avail_idx = len(x)-self.seq_length +1\n",
    "        return avail_idx"
   ]
  },
  {
   "cell_type": "code",
   "execution_count": 10,
   "metadata": {},
   "outputs": [],
   "source": [
    "nextchar_full = NextChar(\"data/\",\"input.txt\",10)"
   ]
  },
  {
   "cell_type": "code",
   "execution_count": 11,
   "metadata": {},
   "outputs": [
    {
     "output_type": "execute_result",
     "data": {
      "text/plain": [
       "<__main__.NextChar at 0x7fac99a84910>"
      ]
     },
     "metadata": {},
     "execution_count": 11
    }
   ],
   "source": [
    "nextchar_full"
   ]
  },
  {
   "cell_type": "code",
   "execution_count": 12,
   "metadata": {},
   "outputs": [
    {
     "output_type": "execute_result",
     "data": {
      "text/plain": [
       "1115385"
      ]
     },
     "metadata": {},
     "execution_count": 12
    }
   ],
   "source": [
    "len(nextchar_full)"
   ]
  },
  {
   "cell_type": "code",
   "execution_count": null,
   "metadata": {},
   "outputs": [],
   "source": []
  }
 ]
}