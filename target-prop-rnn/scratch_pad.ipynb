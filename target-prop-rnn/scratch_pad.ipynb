{
 "cells": [
  {
   "cell_type": "code",
   "execution_count": 1,
   "metadata": {},
   "outputs": [
    {
     "ename": "ModuleNotFoundError",
     "evalue": "No module named 'torchviz'",
     "output_type": "error",
     "traceback": [
      "\u001b[0;31m---------------------------------------------------------------------------\u001b[0m",
      "\u001b[0;31mModuleNotFoundError\u001b[0m                       Traceback (most recent call last)",
      "\u001b[0;32m<ipython-input-1-1a2b32ade117>\u001b[0m in \u001b[0;36m<module>\u001b[0;34m\u001b[0m\n\u001b[1;32m      5\u001b[0m \u001b[0;32mfrom\u001b[0m \u001b[0mtorch\u001b[0m\u001b[0;34m.\u001b[0m\u001b[0mutils\u001b[0m\u001b[0;34m.\u001b[0m\u001b[0mdata\u001b[0m \u001b[0;32mimport\u001b[0m \u001b[0mDataset\u001b[0m\u001b[0;34m,\u001b[0m \u001b[0mIterableDataset\u001b[0m\u001b[0;34m,\u001b[0m \u001b[0mDataLoader\u001b[0m\u001b[0;34m\u001b[0m\u001b[0;34m\u001b[0m\u001b[0m\n\u001b[1;32m      6\u001b[0m \u001b[0;32mimport\u001b[0m \u001b[0mmath\u001b[0m\u001b[0;34m\u001b[0m\u001b[0;34m\u001b[0m\u001b[0m\n\u001b[0;32m----> 7\u001b[0;31m \u001b[0;32mfrom\u001b[0m \u001b[0mtorchviz\u001b[0m \u001b[0;32mimport\u001b[0m \u001b[0mmake_dot\u001b[0m\u001b[0;34m\u001b[0m\u001b[0;34m\u001b[0m\u001b[0m\n\u001b[0m",
      "\u001b[0;31mModuleNotFoundError\u001b[0m: No module named 'torchviz'"
     ]
    }
   ],
   "source": [
    "import torch\n",
    "from torch import nn\n",
    "import numpy as np\n",
    "import os\n",
    "from torch.utils.data import Dataset, IterableDataset, DataLoader\n",
    "import math\n",
    "#from torchviz import make_dot"
   ]
  },
  {
   "cell_type": "code",
   "execution_count": 95,
   "metadata": {},
   "outputs": [],
   "source": [
    "a = torch.tensor([1.], requires_grad=True)\n",
    "b = a.detach().requires_grad_()\n",
    "c = b * 2\n",
    "c.backward()"
   ]
  },
  {
   "cell_type": "code",
   "execution_count": 99,
   "metadata": {},
   "outputs": [],
   "source": [
    "b.data = torch.tensor(0)"
   ]
  },
  {
   "cell_type": "code",
   "execution_count": 135,
   "metadata": {},
   "outputs": [],
   "source": [
    "h = torch.tensor(1., requires_grad=True)\n",
    "s = torch.tensor(0., requires_grad=True)\n",
    "# s = 0\n",
    "c = torch.tensor(2., requires_grad=True)\n",
    "for i in range(10):\n",
    "    h = h.detach() * c\n",
    "#     h.retain_grad()\n",
    "    s = s + h\n",
    "s.backward()"
   ]
  },
  {
   "cell_type": "code",
   "execution_count": 137,
   "metadata": {},
   "outputs": [],
   "source": [
    "h = torch.tensor(1., requires_grad=True)\n",
    "c = h.detach()\n",
    "d = h.detach().clone()"
   ]
  },
  {
   "cell_type": "code",
   "execution_count": 147,
   "metadata": {},
   "outputs": [],
   "source": [
    "h.data = torch.tensor(0)"
   ]
  },
  {
   "cell_type": "code",
   "execution_count": 153,
   "metadata": {},
   "outputs": [
    {
     "name": "stdout",
     "output_type": "stream",
     "text": [
      "tensor([0., 2., 4., 6., 8.])\n"
     ]
    }
   ],
   "source": [
    "a = torch.arange(5., requires_grad=True)\n",
    "b = a**2\n",
    "c = a.detach().clone() # error with detach(), wrong result with .data\n",
    "c.zero_()\n",
    "b.sum().backward()\n",
    "print(a.grad)"
   ]
  },
  {
   "cell_type": "code",
   "execution_count": 33,
   "metadata": {},
   "outputs": [],
   "source": [
    "def gen_a_copy_sample(T):\n",
    "    # X: {0,...,7} x 10 + {8} x T + {9} x 1 + {8} x 10\n",
    "    # Y: {8} x (T+10) + {0...7} x 10 \n",
    "    x = torch.cat([torch.randint(0, 8, size=[10],dtype=torch.int), \\\n",
    "            torch.ones(10-1,dtype=torch.int)*8, \\\n",
    "            torch.tensor([9]), \\\n",
    "            torch.ones(10, dtype=torch.int)*8])\n",
    "    y = torch.ones(T+20,dtype=torch.int)*8\n",
    "    y[-10:] = x[:10]\n",
    "    return x, y"
   ]
  },
  {
   "cell_type": "code",
   "execution_count": 38,
   "metadata": {},
   "outputs": [],
   "source": [
    "class CopyDataset(IterableDataset):\n",
    "    def __init__(self, T, n_samples, device='cpu'):\n",
    "        super(CopyDataset).__init__()\n",
    "        self.T = T\n",
    "        self.n_samples = n_samples\n",
    "        self.device = device\n",
    "    def __iter__(self):\n",
    "        for i in range(self.n_samples):\n",
    "            yield gen_a_copy_sample(self.T)"
   ]
  },
  {
   "cell_type": "code",
   "execution_count": 44,
   "metadata": {},
   "outputs": [],
   "source": [
    "train_set = CopyDataset(10, 10)\n",
    "train_loader = DataLoader(train_set, batch_size=5)"
   ]
  },
  {
   "cell_type": "code",
   "execution_count": 45,
   "metadata": {},
   "outputs": [
    {
     "name": "stdout",
     "output_type": "stream",
     "text": [
      "[tensor([[3, 7, 3, 4, 5, 3, 7, 4, 6, 6, 8, 8, 8, 8, 8, 8, 8, 8, 8, 9, 8, 8, 8, 8,\n",
      "         8, 8, 8, 8, 8, 8],\n",
      "        [4, 6, 2, 0, 2, 2, 0, 6, 3, 4, 8, 8, 8, 8, 8, 8, 8, 8, 8, 9, 8, 8, 8, 8,\n",
      "         8, 8, 8, 8, 8, 8],\n",
      "        [1, 4, 1, 5, 4, 6, 3, 4, 1, 5, 8, 8, 8, 8, 8, 8, 8, 8, 8, 9, 8, 8, 8, 8,\n",
      "         8, 8, 8, 8, 8, 8],\n",
      "        [0, 7, 7, 1, 7, 2, 2, 3, 4, 4, 8, 8, 8, 8, 8, 8, 8, 8, 8, 9, 8, 8, 8, 8,\n",
      "         8, 8, 8, 8, 8, 8],\n",
      "        [4, 1, 7, 0, 0, 0, 5, 4, 7, 5, 8, 8, 8, 8, 8, 8, 8, 8, 8, 9, 8, 8, 8, 8,\n",
      "         8, 8, 8, 8, 8, 8]]), tensor([[8, 8, 8, 8, 8, 8, 8, 8, 8, 8, 8, 8, 8, 8, 8, 8, 8, 8, 8, 8, 3, 7, 3, 4,\n",
      "         5, 3, 7, 4, 6, 6],\n",
      "        [8, 8, 8, 8, 8, 8, 8, 8, 8, 8, 8, 8, 8, 8, 8, 8, 8, 8, 8, 8, 4, 6, 2, 0,\n",
      "         2, 2, 0, 6, 3, 4],\n",
      "        [8, 8, 8, 8, 8, 8, 8, 8, 8, 8, 8, 8, 8, 8, 8, 8, 8, 8, 8, 8, 1, 4, 1, 5,\n",
      "         4, 6, 3, 4, 1, 5],\n",
      "        [8, 8, 8, 8, 8, 8, 8, 8, 8, 8, 8, 8, 8, 8, 8, 8, 8, 8, 8, 8, 0, 7, 7, 1,\n",
      "         7, 2, 2, 3, 4, 4],\n",
      "        [8, 8, 8, 8, 8, 8, 8, 8, 8, 8, 8, 8, 8, 8, 8, 8, 8, 8, 8, 8, 4, 1, 7, 0,\n",
      "         0, 0, 5, 4, 7, 5]], dtype=torch.int32)]\n",
      "[tensor([[7, 5, 5, 3, 4, 1, 4, 4, 4, 7, 8, 8, 8, 8, 8, 8, 8, 8, 8, 9, 8, 8, 8, 8,\n",
      "         8, 8, 8, 8, 8, 8],\n",
      "        [3, 5, 2, 4, 2, 7, 4, 7, 1, 2, 8, 8, 8, 8, 8, 8, 8, 8, 8, 9, 8, 8, 8, 8,\n",
      "         8, 8, 8, 8, 8, 8],\n",
      "        [0, 3, 5, 1, 4, 6, 6, 0, 6, 0, 8, 8, 8, 8, 8, 8, 8, 8, 8, 9, 8, 8, 8, 8,\n",
      "         8, 8, 8, 8, 8, 8],\n",
      "        [0, 5, 0, 6, 6, 1, 2, 7, 4, 2, 8, 8, 8, 8, 8, 8, 8, 8, 8, 9, 8, 8, 8, 8,\n",
      "         8, 8, 8, 8, 8, 8],\n",
      "        [7, 6, 7, 4, 4, 6, 0, 0, 7, 5, 8, 8, 8, 8, 8, 8, 8, 8, 8, 9, 8, 8, 8, 8,\n",
      "         8, 8, 8, 8, 8, 8]]), tensor([[8, 8, 8, 8, 8, 8, 8, 8, 8, 8, 8, 8, 8, 8, 8, 8, 8, 8, 8, 8, 7, 5, 5, 3,\n",
      "         4, 1, 4, 4, 4, 7],\n",
      "        [8, 8, 8, 8, 8, 8, 8, 8, 8, 8, 8, 8, 8, 8, 8, 8, 8, 8, 8, 8, 3, 5, 2, 4,\n",
      "         2, 7, 4, 7, 1, 2],\n",
      "        [8, 8, 8, 8, 8, 8, 8, 8, 8, 8, 8, 8, 8, 8, 8, 8, 8, 8, 8, 8, 0, 3, 5, 1,\n",
      "         4, 6, 6, 0, 6, 0],\n",
      "        [8, 8, 8, 8, 8, 8, 8, 8, 8, 8, 8, 8, 8, 8, 8, 8, 8, 8, 8, 8, 0, 5, 0, 6,\n",
      "         6, 1, 2, 7, 4, 2],\n",
      "        [8, 8, 8, 8, 8, 8, 8, 8, 8, 8, 8, 8, 8, 8, 8, 8, 8, 8, 8, 8, 7, 6, 7, 4,\n",
      "         4, 6, 0, 0, 7, 5]], dtype=torch.int32)]\n"
     ]
    }
   ],
   "source": []
  },
  {
   "cell_type": "code",
   "execution_count": null,
   "metadata": {},
   "outputs": [],
   "source": [
    "class DoubleCharValDataset(Dataset):\n",
    "    def __init__(self, vocab_size, seq_len, copy_num, n_samples, device):\n",
    "        super(DoubleCharValDataset).__init__()\n",
    "        self.n_samples = n_samples\n",
    "        self.X, self.Y = make_data_points(vocab_size, seq_len, copy_num, n_samples, device)\n",
    "    def __len__(self):\n",
    "        return self.n_samples\n",
    "    def __getitem__(self, idx):\n",
    "        return self.X[idx,:], self.Y[idx,:]"
   ]
  },
  {
   "cell_type": "code",
   "execution_count": 55,
   "metadata": {},
   "outputs": [],
   "source": [
    "def gen_n_copy_samples(T, n):\n",
    "    \n",
    "    x = torch.cat([torch.randint(0, 8, size=[n, 10],dtype=torch.int), \\\n",
    "        torch.ones([n,T-1], dtype=torch.int)*8, \\\n",
    "        torch.ones([n,1],dtype=torch.int)*9, \\\n",
    "        torch.ones([n,10], dtype=torch.int)*8], dim=1)\n",
    "    \n",
    "    y = torch.ones([n,T+20],dtype=torch.int)*8\n",
    "    y[:,-10:] = x[:,:10]\n",
    "    \n",
    "    return x, y"
   ]
  },
  {
   "cell_type": "code",
   "execution_count": 61,
   "metadata": {},
   "outputs": [],
   "source": [
    "class CopyDatasetValidation(Dataset):\n",
    "    def __init__(self, T, n_samples):\n",
    "        super(CopyDatasetValidation).__init__()\n",
    "        self.T = T \n",
    "        self.n_samples = n_samples\n",
    "        self.X, self.Y = gen_n_copy_samples(self.T, self.n_samples)\n",
    "    def __len__(self):\n",
    "        return self.n_samples\n",
    "    def __getitem__(self, idx):\n",
    "        return self.X[idx,:], self.Y[idx,:]"
   ]
  },
  {
   "cell_type": "code",
   "execution_count": 62,
   "metadata": {},
   "outputs": [],
   "source": [
    "val_set = CopyDatasetValidation(5, 2)"
   ]
  },
  {
   "cell_type": "code",
   "execution_count": 65,
   "metadata": {},
   "outputs": [
    {
     "name": "stdout",
     "output_type": "stream",
     "text": [
      "(tensor([5, 0, 3, 0, 1, 3, 7, 1, 0, 4, 8, 8, 8, 8, 9, 8, 8, 8, 8, 8, 8, 8, 8, 8,\n",
      "        8], dtype=torch.int32), tensor([8, 8, 8, 8, 8, 8, 8, 8, 8, 8, 8, 8, 8, 8, 8, 5, 0, 3, 0, 1, 3, 7, 1, 0,\n",
      "        4], dtype=torch.int32))\n",
      "(tensor([5, 4, 1, 1, 2, 7, 1, 6, 1, 4, 8, 8, 8, 8, 9, 8, 8, 8, 8, 8, 8, 8, 8, 8,\n",
      "        8], dtype=torch.int32), tensor([8, 8, 8, 8, 8, 8, 8, 8, 8, 8, 8, 8, 8, 8, 8, 5, 4, 1, 1, 2, 7, 1, 6, 1,\n",
      "        4], dtype=torch.int32))\n"
     ]
    }
   ],
   "source": [
    "for i in range(2):\n",
    "    print(val_set[i])"
   ]
  },
  {
   "cell_type": "code",
   "execution_count": 50,
   "metadata": {},
   "outputs": [
    {
     "data": {
      "text/plain": [
       "tensor([[8, 8, 8, 8, 8, 8, 8, 8, 8, 8, 8, 8, 8, 8, 8, 8, 8, 8, 8],\n",
       "        [8, 8, 8, 8, 8, 8, 8, 8, 8, 8, 8, 8, 8, 8, 8, 8, 8, 8, 8]],\n",
       "       dtype=torch.int32)"
      ]
     },
     "execution_count": 50,
     "metadata": {},
     "output_type": "execute_result"
    }
   ],
   "source": [
    "torch.ones([2,20-1], dtype=torch.int)*8"
   ]
  },
  {
   "cell_type": "code",
   "execution_count": 51,
   "metadata": {},
   "outputs": [
    {
     "data": {
      "text/plain": [
       "tensor([[9],\n",
       "        [9]], dtype=torch.int32)"
      ]
     },
     "execution_count": 51,
     "metadata": {},
     "output_type": "execute_result"
    }
   ],
   "source": [
    "torch.ones([2,1],dtype=torch.int)*9"
   ]
  },
  {
   "cell_type": "code",
   "execution_count": 52,
   "metadata": {},
   "outputs": [
    {
     "data": {
      "text/plain": [
       "tensor([[8, 8, 8, 8, 8, 8, 8, 8, 8, 8],\n",
       "        [8, 8, 8, 8, 8, 8, 8, 8, 8, 8]], dtype=torch.int32)"
      ]
     },
     "execution_count": 52,
     "metadata": {},
     "output_type": "execute_result"
    }
   ],
   "source": [
    "torch.ones([2,10], dtype=torch.int)*8"
   ]
  },
  {
   "cell_type": "code",
   "execution_count": 79,
   "metadata": {},
   "outputs": [],
   "source": [
    "def tile(a, dim, n_tile, device):\n",
    "    init_dim = a.size(dim)\n",
    "    repeat_idx = [1] * a.dim()\n",
    "    repeat_idx[dim] = n_tile\n",
    "    a = a.repeat(*(repeat_idx))\n",
    "    order_index = torch.cuda.LongTensor(np.concatenate([init_dim * np.arange(n_tile) + i for i in range(init_dim)]))\n",
    "    return torch.index_select(a, dim, order_index)\n",
    "\n",
    "def make_data_points(vocab_size, seq_len, copy_num, n_samples, device):\n",
    "    # return \n",
    "    num_fill = math.ceil(seq_len/copy_num)\n",
    "    X1 = torch.randint(0, vocab_size, size=[n_samples, num_fill], device=device)\n",
    "    X2 = torch.ones(size=[n_samples, seq_len - num_fill], device=device)*(vocab_size + 1)\n",
    "    X = torch.cat([X1, X2], dim=1)\n",
    "    Y = tile(X, dim=1, n_tile=copy_num, device=device)[:,:seq_len]\n",
    "    return X.squeeze_(), Y.squeeze_()"
   ]
  },
  {
   "cell_type": "code",
   "execution_count": 80,
   "metadata": {},
   "outputs": [
    {
     "data": {
      "text/plain": [
       "(tensor([[2., 1., 3., 1., 0., 5., 5., 5., 5., 5.],\n",
       "         [3., 3., 2., 1., 1., 5., 5., 5., 5., 5.]], device='cuda:0'),\n",
       " tensor([[2., 2., 1., 1., 3., 3., 1., 1., 0., 0.],\n",
       "         [3., 3., 3., 3., 2., 2., 1., 1., 1., 1.]], device='cuda:0'))"
      ]
     },
     "execution_count": 80,
     "metadata": {},
     "output_type": "execute_result"
    }
   ],
   "source": [
    "make_data_points(4, 10, 2, 2, 'cuda:0')"
   ]
  },
  {
   "cell_type": "code",
   "execution_count": 73,
   "metadata": {},
   "outputs": [
    {
     "data": {
      "text/plain": [
       "5"
      ]
     },
     "execution_count": 73,
     "metadata": {},
     "output_type": "execute_result"
    }
   ],
   "source": [
    "11//2"
   ]
  },
  {
   "cell_type": "code",
   "execution_count": 5,
   "metadata": {},
   "outputs": [
    {
     "name": "stdout",
     "output_type": "stream",
     "text": [
      "Requirement already satisfied: Cython in /Users/zche/opt/anaconda3/lib/python3.8/site-packages (0.29.21)\n"
     ]
    }
   ],
   "source": [
    "import math\n",
    "from typing import List, Union\n",
    "!pip3 install Cython\n",
    "import numpy as np\n",
    "import pytorch_lightning as pl\n",
    "import torch\n",
    "from torch._C import dtype\n",
    "# from torch.utils.data import dataloader\n",
    "# from torch.utils.data.dataloader import DataLoader\n",
    "from torch.utils.data import Dataset, IterableDataset, DataLoader"
   ]
  },
  {
   "cell_type": "code",
   "execution_count": 3,
   "metadata": {},
   "outputs": [],
   "source": [
    "def gen_n_copy_samples(delay: int, n: int, rand):\n",
    "    rng = np.random.default_rng(rand)\n",
    "    # torch.randint(0, 8, size=[n, 10], dtype=torch.long)\n",
    "    rand_seq_np = rng.integers(0, 8, size=[n, 10], dtype=np.int64)\n",
    "    x = torch.cat([torch.from_numpy(rand_seq_np),\n",
    "                   torch.ones([n, delay-1], dtype=torch.long)*8,\n",
    "                   torch.ones([n, 1], dtype=torch.long)*9,\n",
    "                   torch.ones([n, 10], dtype=torch.long)*8], dim=1)\n",
    "    y = torch.ones([n, delay+20], dtype=torch.long)*8\n",
    "    y[:, -10:] = x[:, :10]\n",
    "    torch.save(x, f'data/copymem_{delay}_{rand}_10_x')\n",
    "    torch.save(y, f'data/copymem_{delay}_{rand}_10_y')"
   ]
  },
  {
   "cell_type": "code",
   "execution_count": 8,
   "metadata": {},
   "outputs": [],
   "source": [
    "gen_n_copy_samples(3,2000000,1)"
   ]
  },
  {
   "cell_type": "code",
   "execution_count": 9,
   "metadata": {},
   "outputs": [],
   "source": [
    "gen_n_copy_samples(5,2000000,1)"
   ]
  },
  {
   "cell_type": "code",
   "execution_count": 10,
   "metadata": {},
   "outputs": [],
   "source": [
    "gen_n_copy_samples(10,2000000,1)"
   ]
  },
  {
   "cell_type": "code",
   "execution_count": 13,
   "metadata": {},
   "outputs": [],
   "source": [
    "x = torch.load('data/copymem_3_1_10_x')"
   ]
  },
  {
   "cell_type": "code",
   "execution_count": 14,
   "metadata": {},
   "outputs": [
    {
     "data": {
      "text/plain": [
       "torch.Size([2000000, 23])"
      ]
     },
     "execution_count": 14,
     "metadata": {},
     "output_type": "execute_result"
    }
   ],
   "source": [
    "x.shape"
   ]
  },
  {
   "cell_type": "code",
   "execution_count": 15,
   "metadata": {},
   "outputs": [],
   "source": [
    "x1 = torch.load('data/copymem_5_1_10_x')"
   ]
  },
  {
   "cell_type": "code",
   "execution_count": 16,
   "metadata": {},
   "outputs": [
    {
     "data": {
      "text/plain": [
       "torch.Size([2000000, 25])"
      ]
     },
     "execution_count": 16,
     "metadata": {},
     "output_type": "execute_result"
    }
   ],
   "source": [
    "x1.shape"
   ]
  },
  {
   "cell_type": "code",
   "execution_count": 17,
   "metadata": {},
   "outputs": [],
   "source": [
    "T = 10\n",
    "delay = 5"
   ]
  },
  {
   "cell_type": "code",
   "execution_count": 18,
   "metadata": {},
   "outputs": [],
   "source": [
    "dims = (T*2+delay)"
   ]
  },
  {
   "cell_type": "code",
   "execution_count": 22,
   "metadata": {},
   "outputs": [
    {
     "name": "stdout",
     "output_type": "stream",
     "text": [
      "25\n"
     ]
    }
   ],
   "source": [
    "print(dims)"
   ]
  },
  {
   "cell_type": "code",
   "execution_count": null,
   "metadata": {},
   "outputs": [],
   "source": [
    "y = torch.load('data/copymem_3_1_10_y')"
   ]
  },
  {
   "cell_type": "code",
   "execution_count": 4,
   "metadata": {},
   "outputs": [],
   "source": [
    "gen_n_copy_samples(15,2000000,1)"
   ]
  },
  {
   "cell_type": "code",
   "execution_count": null,
   "metadata": {},
   "outputs": [],
   "source": []
  }
 ],
 "metadata": {
  "kernelspec": {
   "display_name": "Python 3.8.5 64-bit ('base': conda)",
   "name": "python385jvsc74a57bd0281a0712d20f16d85be18ca390c9c251f06399722426363e73cbb752228d926c"
  },
  "language_info": {
   "codemirror_mode": {
    "name": "ipython",
    "version": 3
   },
   "file_extension": ".py",
   "mimetype": "text/x-python",
   "name": "python",
   "nbconvert_exporter": "python",
   "pygments_lexer": "ipython3",
   "version": "3.8.5"
  }
 },
 "nbformat": 4,
 "nbformat_minor": 5
}
